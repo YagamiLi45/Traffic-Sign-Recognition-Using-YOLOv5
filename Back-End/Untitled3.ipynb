{
 "cells": [
  {
   "cell_type": "code",
   "execution_count": 1,
   "id": "6d353b16-38eb-4607-b634-94ac8fb610e6",
   "metadata": {},
   "outputs": [
    {
     "name": "stdout",
     "output_type": "stream",
     "text": [
      "pygame 2.5.2 (SDL 2.28.3, Python 3.11.4)\n",
      "Hello from the pygame community. https://www.pygame.org/contribute.html\n"
     ]
    }
   ],
   "source": [
    "import cv2\n",
    "from testing import YOLO_Pred\n",
    "import pygame\n",
    "\n",
    "\n"
   ]
  },
  {
   "cell_type": "code",
   "execution_count": 2,
   "id": "aba80285-c133-4f98-a8c1-727f2a648dfa",
   "metadata": {},
   "outputs": [],
   "source": [
    "# Initialize pygame for sound generation\n",
    "pygame.mixer.init()\n",
    "\n"
   ]
  },
  {
   "cell_type": "code",
   "execution_count": 3,
   "id": "1e892a70-ebe6-4c13-a237-dd651578c896",
   "metadata": {},
   "outputs": [],
   "source": [
    "yolo = YOLO_Pred(r'C:\\All Projects\\Final Year Project\\Model77\\weights\\best.onnx', r'C:\\All Projects\\Final Year Project\\data123.yaml')\n",
    "\n",
    "# Define sound files for different classes (you need to have these sound files)\n",
    "import os\n",
    "\n",
    "sound_directory = r\"C:\\All Projects\\Final Year Project\\sound\"\n",
    "\n",
    "sound_mapping = {\n",
    "    \"Cycle Zone\": os.path.join(sound_directory, \"Cycle Zone.mp3\"),\n",
    "    \"Danger Ahead\": os.path.join(sound_directory, \"Danger Ahead.mp3\"),\n",
    "    \"Deer Zone\": os.path.join(sound_directory, \"Deer Zone.mp3\"),\n",
    "    \"End of Right Road -Go straight-\": os.path.join(sound_directory, \"End of Right Road -Go straight-.mp3\"),\n",
    "    \"Give Way\": os.path.join(sound_directory, \"Give Way.mp3\"),\n",
    "    \"Go Left or Straight\": os.path.join(sound_directory, \"Go Left or Straight.mp3\"),\n",
    "    \"Go Right or Straight\": os.path.join(sound_directory, \"Go Right or Straight.mp3\"),\n",
    "    \"Go Straight\": os.path.join(sound_directory, \"Go Straight.mp3\"),\n",
    "    \"Huddle Road\": os.path.join(sound_directory, \"Huddle Road.mp3\"),\n",
    "    \"Left Curve Ahead\": os.path.join(sound_directory, \"Left Curve Ahead.mp3\"),\n",
    "    \"Left Sharp Curve\": os.path.join(sound_directory, \"Left Sharp Curve.mp3\"),\n",
    "    \"No Entry\": os.path.join(sound_directory, \"No Entry.mp3\"),\n",
    "    \"No Over Taking\": os.path.join(sound_directory, \"No Over Taking.mp3\"),\n",
    "    \"No Over Taking Trucks\": os.path.join(sound_directory, \"No Over Taking Trucks.mp3\"),\n",
    "    \"No Stopping\": os.path.join(sound_directory, \"No Stopping.mp3\"),\n",
    "    \"No Waiting\": os.path.join(sound_directory, \"No Waiting.mp3\"),\n",
    "    \"Pedestrian\": os.path.join(sound_directory, \"Pedestrian.mp3\"),\n",
    "    \"Right Curve Ahead\": os.path.join(sound_directory, \"Right Curve Ahead.mp3\"),\n",
    "    \"Right Sharp Curve\": os.path.join(sound_directory, \"Right Sharp Curve.mp3\"),\n",
    "    \"Road Work\": os.path.join(sound_directory, \"Road Work.mp3\"),\n",
    "    \"RoundAbout\": os.path.join(sound_directory, \"RoundAbout.mp3\"),\n",
    "    \"Slippery Road\": os.path.join(sound_directory, \"Slippery Road.mp3\"),\n",
    "    \"Snow Warning Sign\": os.path.join(sound_directory, \"Snow Warning Sign.mp3\"),\n",
    "    \"Speed Limit 100\": os.path.join(sound_directory, \"Speed Limit 100.mp3\"),\n",
    "    \"Speed Limit 120\": os.path.join(sound_directory, \"Speed Limit 120.mp3\"),\n",
    "    \"Speed Limit 20\": os.path.join(sound_directory, \"Speed Limit 20.mp3\"),\n",
    "    \"Speed Limit 30\": os.path.join(sound_directory, \"Speed Limit 30.mp3\"),\n",
    "    \"Speed Limit 50\": os.path.join(sound_directory, \"Speed Limit 50.mp3\"),\n",
    "    \"Speed Limit 60\": os.path.join(sound_directory, \"Speed Limit 60.mp3\"),\n",
    "    \"Speed Limit 70\": os.path.join(sound_directory, \"Speed Limit 70.mp3\"),\n",
    "    \"Speed Limit 80\": os.path.join(sound_directory, \"Speed Limit 80.mp3\"),\n",
    "    \"Stop\": os.path.join(sound_directory, \"Stop.mp3\"),\n",
    "    \"Traffic Signals Ahead\": os.path.join(sound_directory, \"Traffic Signals Ahead.mp3\"),\n",
    "    \"Truck Sign\": os.path.join(sound_directory, \"Truck Sign.mp3\"),\n",
    "    \"Turn Left\": os.path.join(sound_directory, \"Turn Left.mp3\"),\n",
    "    \"Turn Right\": os.path.join(sound_directory, \"Turn Right.mp3\")\n",
    "    # Add more traffic sign mappings as needed\n",
    "}\n"
   ]
  },
  {
   "cell_type": "code",
   "execution_count": 4,
   "id": "2fa4be34-26c9-4781-a1ac-b06408b5a2c8",
   "metadata": {},
   "outputs": [],
   "source": [
    "img = cv2.imread(r'C:\\All Projects\\Final Year Project\\Testing Images\\img2.jpg')\n",
    "cv2.imshow('img', img)\n",
    "cv2.waitKey(5000)\n",
    "\n",
    "cv2.destroyAllWindows()\n",
    "\n"
   ]
  },
  {
   "cell_type": "code",
   "execution_count": 5,
   "id": "8a7cc5f9-b392-4849-92b8-800cdddd5b74",
   "metadata": {},
   "outputs": [],
   "source": [
    "\n",
    "img_pred = yolo.predictions(img)\n",
    "cv2.imshow('prediction image', img_pred)\n",
    "cv2.waitKey(5000)\n",
    "cv2.destroyAllWindows()\n",
    "\n"
   ]
  },
  {
   "cell_type": "code",
   "execution_count": null,
   "id": "378464ea",
   "metadata": {},
   "outputs": [],
   "source": []
  },
  {
   "cell_type": "code",
   "execution_count": null,
   "id": "19d2f609",
   "metadata": {},
   "outputs": [],
   "source": []
  },
  {
   "cell_type": "code",
   "execution_count": 7,
   "id": "c348b24f-9125-4daf-aa90-caa810fa7527",
   "metadata": {},
   "outputs": [],
   "source": [
    "cap = cv2.VideoCapture('videoplayback.mp4')\n",
    "\n",
    "while True:\n",
    "    ret, frame = cap.read()\n",
    "    if ret == False:\n",
    "        print('unable to read video')\n",
    "        break\n",
    "\n",
    "    # Predictions on frame\n",
    "    class_labels = yolo.predictions(frame)  # Assuming predictions() returns a list of class labels\n",
    "    \n",
    "    # Generate sound based on detected objects\n",
    "    for class_label, sound_file in sound_mapping.items():\n",
    "        if class_label in sound_mapping:\n",
    "            sound = pygame.mixer.Sound(sound_file)\n",
    "            sound.play()\n",
    "\n",
    "    cv2.imshow('YOLO', frame)\n",
    "    if cv2.waitKey(1) == 27:\n",
    "        break\n",
    "\n",
    "cv2.destroyAllWindows()\n",
    "cap.release()\n"
   ]
  },
  {
   "cell_type": "code",
   "execution_count": null,
   "id": "efb98d22-8d64-40a9-a4a6-8c2af9593b7a",
   "metadata": {},
   "outputs": [
    {
     "name": "stdout",
     "output_type": "stream",
     "text": [
      "Unable to read video\n"
     ]
    }
   ],
   "source": [
    "cap = cv2.VideoCapture('India_ Mumbai Road Safety helmet campaign - Consequences (Hindi) (1080p).mp4')\n",
    "\n",
    "# Set to keep track of already played class labels\n",
    "played_labels = set()\n",
    "\n",
    "while True:\n",
    "    ret, frame = cap.read()\n",
    "    if ret == False:\n",
    "        print('Unable to read video')\n",
    "        break\n",
    "\n",
    "    # Predictions on frame\n",
    "    class_labels = yolo.predictions(frame)  # Assuming predictions() returns a list of class labels\n",
    "    \n",
    "    # Check if any object is detected\n",
    "    if len(class_labels) > 0:\n",
    "        # Generate sound based on detected objects\n",
    "        for class_label in ['helmet', 'no-helmet']:\n",
    "            if class_label in sound_mapping and class_label not in played_labels:\n",
    "                sound_file = sound_mapping[class_label]\n",
    "                sound = pygame.mixer.Sound(sound_file)\n",
    "                sound.play()\n",
    "                played_labels.add(class_label)  # Add the class label to the set of played labels\n",
    "    else:\n",
    "        # Reset the set of played labels if no objects are detected\n",
    "        played_labels.clear()\n",
    "    \n",
    "    cv2.imshow('YOLO', frame)\n",
    "    if cv2.waitKey(1) == 27:\n",
    "        break\n",
    "\n",
    "cv2.destroyAllWindows()\n",
    "cap.release()\n"
   ]
  },
  {
   "cell_type": "code",
   "execution_count": null,
   "id": "e93afbe6-d87d-4687-96e2-f6b4cce50589",
   "metadata": {},
   "outputs": [],
   "source": []
  },
  {
   "cell_type": "code",
   "execution_count": null,
   "id": "c735b2ee-9d95-48aa-9098-ec12d40acc4d",
   "metadata": {},
   "outputs": [],
   "source": []
  }
 ],
 "metadata": {
  "kernelspec": {
   "display_name": "Python 3 (ipykernel)",
   "language": "python",
   "name": "python3"
  },
  "language_info": {
   "codemirror_mode": {
    "name": "ipython",
    "version": 3
   },
   "file_extension": ".py",
   "mimetype": "text/x-python",
   "name": "python",
   "nbconvert_exporter": "python",
   "pygments_lexer": "ipython3",
   "version": "3.11.4"
  }
 },
 "nbformat": 4,
 "nbformat_minor": 5
}
