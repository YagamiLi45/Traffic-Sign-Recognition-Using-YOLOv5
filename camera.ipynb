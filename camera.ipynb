{
 "cells": [
  {
   "cell_type": "code",
   "execution_count": 1,
   "id": "7a622d99-cdb3-4377-8e62-17b524145edc",
   "metadata": {},
   "outputs": [
    {
     "name": "stdout",
     "output_type": "stream",
     "text": [
      "Requirement already satisfied: opencv-python in c:\\users\\admin\\appdata\\local\\programs\\python\\python311\\lib\\site-packages (4.9.0.80)\n",
      "Requirement already satisfied: numpy>=1.21.2 in c:\\users\\admin\\appdata\\local\\programs\\python\\python311\\lib\\site-packages (from opencv-python) (1.26.2)\n"
     ]
    }
   ],
   "source": [
    "!pip install opencv-python\n",
    "\n"
   ]
  },
  {
   "cell_type": "code",
   "execution_count": 2,
   "id": "6e124923-0068-43b7-b2b2-252281d3639b",
   "metadata": {},
   "outputs": [
    {
     "name": "stdout",
     "output_type": "stream",
     "text": [
      "pygame 2.5.2 (SDL 2.28.3, Python 3.11.4)\n",
      "Hello from the pygame community. https://www.pygame.org/contribute.html\n"
     ]
    }
   ],
   "source": [
    "import cv2\n",
    "from camera11 import YOLO_Pred\n",
    "import os\n",
    "\n"
   ]
  },
  {
   "cell_type": "code",
   "execution_count": 4,
   "id": "63c07d54-c253-4561-9c06-55ab1d6362e8",
   "metadata": {},
   "outputs": [],
   "source": [
    "yolo = YOLO_Pred('./Model77/weights/best.onnx', 'data.yaml')\n",
    "\n",
    "# Define sound files for different classes (you need to have these sound files)\n",
    "sound_mapping = {\n",
    "    \"Cycle Zone\": \"Cycle Zone.mp3\",\n",
    "    \"Danger Ahead\": \"Danger Ahead.mp3\",\n",
    "    \"Deer Zone\": \"Deer Zone.mp3\",\n",
    "    \"End of Right Road -Go straight-\": \"End of Right Road -Go straight-.mp3\",\n",
    "    \"Give Way\": \"Give Way.mp3\",\n",
    "    \"Go Left or Straight\": \"Go Left or Straight.mp3\",\n",
    "    \"Go Right or Straight\": \"Go Right or Straight.mp3\",\n",
    "    \"Go Straight\": \"Go Straight.mp3\",\n",
    "    \"Huddle Road\": \"Huddle Road.mp3\",\n",
    "    \"Left Curve Ahead\": \"Left Curve Ahead.mp3\",\n",
    "    \"Left Sharp Curve\": \"Left Sharp Curve.mp3\",\n",
    "    \"No Entry\": \"No Entry.mp3\",\n",
    "    \"No Over Taking\": \"No Over Taking.mp3\",\n",
    "    \"No Over Taking Trucks\": \"No Over Taking Trucks.mp3\",\n",
    "    \"No Stopping\": \"No Stopping.mp3\",\n",
    "    \"No Waiting\": \"No Waiting.mp3\",\n",
    "    \"Pedestrian\": \"Pedestrian.mp3\",\n",
    "    \"Right Curve Ahead\": \"Right Curve Ahead.mp3\",\n",
    "    \"Right Sharp Curve\": \"Right Sharp Curve.mp3\",\n",
    "    \"Road Work\": \"Road Work.mp3\",\n",
    "    \"RoundAbout\": \"RoundAbout.mp3\",\n",
    "    \"Slippery Road\": \"Slippery Road.mp3\",\n",
    "    \"Snow Warning Sign\": \"Snow Warning Sign.mp3\",\n",
    "    \"Speed Limit 100\": \"Speed Limit 100.mp3\",\n",
    "    \"Speed Limit 120\": \"Speed Limit 120.mp3\",\n",
    "    \"Speed Limit 20\": \"Speed Limit 20.mp3\",\n",
    "    \"Speed Limit 30\": \"Speed Limit 30.mp3\",\n",
    "    \"Speed Limit 50\": \"Speed Limit 50.mp3\",\n",
    "    \"Speed Limit 60\": \"Speed Limit 60.mp3\",\n",
    "    \"Speed Limit 70\": \"Speed Limit 70.mp3\",\n",
    "    \"Speed Limit 80\": \"Speed Limit 80.mp3\",\n",
    "    \"Stop\": \"Stop.mp3\",\n",
    "    \"Traffic Signals Ahead\": \"Traffic Signals Ahead.mp3\",\n",
    "    \"Truck Sign\": \"Truck Sign.mp3\",\n",
    "    \"Turn Left\": \"Turn Left.mp3\",\n",
    "    \"Turn Right\": \"Turn Right.mp3\"\n",
    "    # Add more traffic sign mappings as needed\n",
    "}\n",
    "\n"
   ]
  },
  {
   "cell_type": "code",
   "execution_count": 5,
   "id": "39bf0d56-6562-4d09-9b3d-635fe8fee75b",
   "metadata": {},
   "outputs": [],
   "source": [
    "# Access the default camera\n",
    "cap = cv2.VideoCapture(0)\n",
    "\n"
   ]
  },
  {
   "cell_type": "code",
   "execution_count": 6,
   "id": "9d1a9daf-054b-4fea-a401-633cfcef6766",
   "metadata": {},
   "outputs": [],
   "source": [
    "# Access the default camera\n",
    "cap = cv2.VideoCapture(0)\n",
    "\n",
    "# Set camera properties for faster capture (adjust values as needed)\n",
    "cap.set(cv2.CAP_PROP_FRAME_WIDTH, 640)  # Set width\n",
    "cap.set(cv2.CAP_PROP_FRAME_HEIGHT, 480)  # Set height\n",
    "cap.set(cv2.CAP_PROP_FPS, 30)  # Set frame rate\n",
    "\n",
    "# Check if the camera opened successfully\n",
    "if not cap.isOpened():\n",
    "    print(\"Error: Could not open camera.\")\n",
    "    exit()\n",
    "\n",
    "# Main loop for real-time video processing\n",
    "while True:\n",
    "    ret, frame = cap.read()\n",
    "    if not ret:\n",
    "        print('Unable to read frame from camera')\n",
    "        break\n",
    "\n",
    "    # Predictions on frame\n",
    "    detected_signs = yolo.predictions(frame)\n",
    "\n",
    "    cv2.imshow('YOLO', frame)\n",
    "\n",
    "    # Check for key press to exit\n",
    "    key = cv2.waitKey(1)\n",
    "    if key == 27:  # Check if the 'Esc' key is pressed\n",
    "        break\n",
    "\n",
    "# Release the camera and close OpenCV windows\n",
    "cap.release()\n",
    "cv2.destroyAllWindows()\n"
   ]
  },
  {
   "cell_type": "code",
   "execution_count": 5,
   "id": "44cead8c-df5b-40ff-8c9d-7a05a0847877",
   "metadata": {},
   "outputs": [
    {
     "name": "stdout",
     "output_type": "stream",
     "text": [
      "Unable to read frame from camera\n"
     ]
    }
   ],
   "source": [
    "cap = cv2.VideoCapture(0)\n",
    "\n",
    "# Check if the camera opened successfully\n",
    "if not cap.isOpened():\n",
    "    print(\"Error: Could not open camera.\")\n",
    "    exit()\n",
    "\n",
    "# Create YOLO object\n",
    "yolo = YOLO_Pred('./Model77/weights/best.onnx', 'data.yaml')\n",
    "\n",
    "# Main loop for real-time video processing\n",
    "while True:\n",
    "    ret, frame = cap.read()\n",
    "    if not ret:\n",
    "        print('Unable to read frame from camera')\n",
    "        break\n",
    "\n",
    "    # Predictions on frame\n",
    "    detected_signs = yolo.predictions(frame)\n",
    "\n",
    "    cv2.imshow('YOLO', frame)\n",
    "\n",
    "    # Check for key press to exit\n",
    "    if cv2.waitKey(1) & 0xFF == ord('q'):\n",
    "        break\n",
    "\n",
    "# Release the camera and close OpenCV windows\n",
    "cap.release()\n",
    "cv2.destroyAllWindows()"
   ]
  },
  {
   "cell_type": "code",
   "execution_count": 10,
   "id": "b109428b-81f3-4a9e-98fb-cabac280d95e",
   "metadata": {},
   "outputs": [],
   "source": []
  },
  {
   "cell_type": "code",
   "execution_count": null,
   "id": "d31d397a-4a8b-4863-93e9-a1f2198ee2de",
   "metadata": {},
   "outputs": [],
   "source": []
  },
  {
   "cell_type": "code",
   "execution_count": null,
   "id": "af29e8ba-d845-4f74-9708-781657cdece9",
   "metadata": {},
   "outputs": [],
   "source": []
  }
 ],
 "metadata": {
  "kernelspec": {
   "display_name": "Python 3 (ipykernel)",
   "language": "python",
   "name": "python3"
  },
  "language_info": {
   "codemirror_mode": {
    "name": "ipython",
    "version": 3
   },
   "file_extension": ".py",
   "mimetype": "text/x-python",
   "name": "python",
   "nbconvert_exporter": "python",
   "pygments_lexer": "ipython3",
   "version": "3.11.4"
  }
 },
 "nbformat": 4,
 "nbformat_minor": 5
}
